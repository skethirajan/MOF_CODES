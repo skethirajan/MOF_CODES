{
 "cells": [
  {
   "cell_type": "code",
   "execution_count": 11,
   "metadata": {},
   "outputs": [
    {
     "name": "stdout",
     "output_type": "stream",
     "text": [
      "/global/cfs/cdirs/m3548/sudheesh/mofs_1/relaxed_structures\n"
     ]
    }
   ],
   "source": [
    "from ase.io import read, write\n",
    "import numpy as np\n",
    "import os\n",
    "\n",
    "os.chdir(os.path.expanduser(\"~/mofs_1/relaxed_structures\"))\n",
    "print(os.getcwd())\n",
    "\n",
    "read_dir = \"./mofs\"\n",
    "\n",
    "mof_files = [\"mof-1_relax.traj\", \"mof-2_relax.traj\", \"mof-3_relax.traj\", \"mof-4_relax.traj\", \"mof-5_relax.traj\", \"mof-6_relax.traj\"]\n",
    "\n",
    "write_dir = \"./for_diffusion_nebs\"\n",
    "\n",
    "for file in mof_files:\n",
    "    atoms = read(f\"{read_dir}/{file}\")\n",
    "    atoms.translate(np.dot(atoms.cell, np.array([0, 0, 0.5])))  # moving atoms in Z direction by 0.5 units relative to cell Z length\n",
    "    atoms.wrap()  # this wraps the periodic cell around the atoms that are outside\n",
    "    mof_name = file.split(\"_\")[0]\n",
    "    write(f\"{write_dir}/{mof_name}_pore.traj\", atoms)\n"
   ]
  }
 ],
 "metadata": {
  "kernelspec": {
   "display_name": "Python 3.10.4 ('dmd_cpu')",
   "language": "python",
   "name": "python3"
  },
  "language_info": {
   "codemirror_mode": {
    "name": "ipython",
    "version": 3
   },
   "file_extension": ".py",
   "mimetype": "text/x-python",
   "name": "python",
   "nbconvert_exporter": "python",
   "pygments_lexer": "ipython3",
   "version": "3.10.4"
  },
  "orig_nbformat": 4,
  "vscode": {
   "interpreter": {
    "hash": "f6a690492f1c808f03f8ca686eeae6564d5ab0ce04a5596d628b68d6b4db8f4c"
   }
  }
 },
 "nbformat": 4,
 "nbformat_minor": 2
}
